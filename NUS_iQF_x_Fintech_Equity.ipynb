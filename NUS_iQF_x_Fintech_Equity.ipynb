{
  "nbformat": 4,
  "nbformat_minor": 0,
  "metadata": {
    "colab": {
      "provenance": []
    },
    "kernelspec": {
      "name": "python3",
      "display_name": "Python 3"
    },
    "language_info": {
      "name": "python"
    }
  },
  "cells": [
    {
      "cell_type": "code",
      "execution_count": null,
      "metadata": {
        "colab": {
          "base_uri": "https://localhost:8080/"
        },
        "id": "WtlKCaNonz0b",
        "outputId": "5d4cbf4b-3b3c-4571-a6b9-4a78086edd5f"
      },
      "outputs": [
        {
          "output_type": "stream",
          "name": "stdout",
          "text": [
            "Python 3.11.11\n",
            "Requirement already satisfied: yfinance in /usr/local/lib/python3.11/dist-packages (0.2.52)\n",
            "Requirement already satisfied: pandas>=1.3.0 in /usr/local/lib/python3.11/dist-packages (from yfinance) (2.2.2)\n",
            "Requirement already satisfied: numpy>=1.16.5 in /usr/local/lib/python3.11/dist-packages (from yfinance) (1.26.4)\n",
            "Requirement already satisfied: requests>=2.31 in /usr/local/lib/python3.11/dist-packages (from yfinance) (2.32.3)\n",
            "Requirement already satisfied: multitasking>=0.0.7 in /usr/local/lib/python3.11/dist-packages (from yfinance) (0.0.11)\n",
            "Requirement already satisfied: lxml>=4.9.1 in /usr/local/lib/python3.11/dist-packages (from yfinance) (5.3.1)\n",
            "Requirement already satisfied: platformdirs>=2.0.0 in /usr/local/lib/python3.11/dist-packages (from yfinance) (4.3.6)\n",
            "Requirement already satisfied: pytz>=2022.5 in /usr/local/lib/python3.11/dist-packages (from yfinance) (2025.1)\n",
            "Requirement already satisfied: frozendict>=2.3.4 in /usr/local/lib/python3.11/dist-packages (from yfinance) (2.4.6)\n",
            "Requirement already satisfied: peewee>=3.16.2 in /usr/local/lib/python3.11/dist-packages (from yfinance) (3.17.9)\n",
            "Requirement already satisfied: beautifulsoup4>=4.11.1 in /usr/local/lib/python3.11/dist-packages (from yfinance) (4.13.3)\n",
            "Requirement already satisfied: html5lib>=1.1 in /usr/local/lib/python3.11/dist-packages (from yfinance) (1.1)\n",
            "Requirement already satisfied: soupsieve>1.2 in /usr/local/lib/python3.11/dist-packages (from beautifulsoup4>=4.11.1->yfinance) (2.6)\n",
            "Requirement already satisfied: typing-extensions>=4.0.0 in /usr/local/lib/python3.11/dist-packages (from beautifulsoup4>=4.11.1->yfinance) (4.12.2)\n",
            "Requirement already satisfied: six>=1.9 in /usr/local/lib/python3.11/dist-packages (from html5lib>=1.1->yfinance) (1.17.0)\n",
            "Requirement already satisfied: webencodings in /usr/local/lib/python3.11/dist-packages (from html5lib>=1.1->yfinance) (0.5.1)\n",
            "Requirement already satisfied: python-dateutil>=2.8.2 in /usr/local/lib/python3.11/dist-packages (from pandas>=1.3.0->yfinance) (2.8.2)\n",
            "Requirement already satisfied: tzdata>=2022.7 in /usr/local/lib/python3.11/dist-packages (from pandas>=1.3.0->yfinance) (2025.1)\n",
            "Requirement already satisfied: charset-normalizer<4,>=2 in /usr/local/lib/python3.11/dist-packages (from requests>=2.31->yfinance) (3.4.1)\n",
            "Requirement already satisfied: idna<4,>=2.5 in /usr/local/lib/python3.11/dist-packages (from requests>=2.31->yfinance) (3.10)\n",
            "Requirement already satisfied: urllib3<3,>=1.21.1 in /usr/local/lib/python3.11/dist-packages (from requests>=2.31->yfinance) (2.3.0)\n",
            "Requirement already satisfied: certifi>=2017.4.17 in /usr/local/lib/python3.11/dist-packages (from requests>=2.31->yfinance) (2025.1.31)\n",
            "Requirement already satisfied: hurst in /usr/local/lib/python3.11/dist-packages (0.0.5)\n",
            "Requirement already satisfied: pandas>=0.18 in /usr/local/lib/python3.11/dist-packages (from hurst) (2.2.2)\n",
            "Requirement already satisfied: numpy>=1.10 in /usr/local/lib/python3.11/dist-packages (from hurst) (1.26.4)\n",
            "Requirement already satisfied: python-dateutil>=2.8.2 in /usr/local/lib/python3.11/dist-packages (from pandas>=0.18->hurst) (2.8.2)\n",
            "Requirement already satisfied: pytz>=2020.1 in /usr/local/lib/python3.11/dist-packages (from pandas>=0.18->hurst) (2025.1)\n",
            "Requirement already satisfied: tzdata>=2022.7 in /usr/local/lib/python3.11/dist-packages (from pandas>=0.18->hurst) (2025.1)\n",
            "Requirement already satisfied: six>=1.5 in /usr/local/lib/python3.11/dist-packages (from python-dateutil>=2.8.2->pandas>=0.18->hurst) (1.17.0)\n"
          ]
        }
      ],
      "source": [
        "!python --version\n",
        "\n",
        "#!pip uninstall -y yfinance\n",
        "!pip3 install yfinance\n",
        "!pip3 install hurst\n"
      ]
    },
    {
      "cell_type": "code",
      "source": [
        "import yfinance as yf\n",
        "import pandas as pd\n",
        "import math\n",
        "import numpy as np\n",
        "import requests\n",
        "#import hurst as hs\n",
        "from scipy.stats import linregress\n",
        "from joblib import Parallel, delayed\n",
        "import matplotlib.pyplot as plt\n",
        "\n",
        "# # Getting all the S&P500 tickers from Wikipedia\n",
        "url = 'https://en.wikipedia.org/wiki/List_of_S%26P_500_companies'\n",
        "table = pd.read_html(url)\n",
        "tickers = list(table[0][\"Symbol\"])\n",
        "valid_tickers = [ticker for ticker in tickers if not ticker in ['BF.B', 'SW', 'AMTM', 'GEV', 'SOLV', 'BRK.B']]"
      ],
      "metadata": {
        "id": "nkdQ530lo2ei"
      },
      "execution_count": null,
      "outputs": []
    },
    {
      "cell_type": "code",
      "source": [
        "# Importing data of all S&P500 companies from Yahoo!Finance\n",
        "start_date = \"2013-01-01\" # Made change from 2013 to 2022\n",
        "end_date = \"2023-12-31\"\n",
        "\n",
        "data = yf.download('TSLA', start_date, end_date, auto_adjust=False)\n",
        "data.head()\n",
        "type(data)"
      ],
      "metadata": {
        "colab": {
          "base_uri": "https://localhost:8080/",
          "height": 274
        },
        "id": "lU9ophVT_90l",
        "outputId": "706238ed-0844-4d6f-d487-7d74a9d0814b"
      },
      "execution_count": null,
      "outputs": [
        {
          "output_type": "stream",
          "name": "stderr",
          "text": [
            "\r[*********************100%***********************]  1 of 1 completed\n",
            "ERROR:yfinance:\n",
            "1 Failed download:\n",
            "ERROR:yfinance:['TSLA']: YFRateLimitError('Too Many Requests. Rate limited. Try after a while.')\n"
          ]
        },
        {
          "output_type": "execute_result",
          "data": {
            "text/plain": [
              "pandas.core.frame.DataFrame"
            ],
            "text/html": [
              "<div style=\"max-width:800px; border: 1px solid var(--colab-border-color);\"><style>\n",
              "      pre.function-repr-contents {\n",
              "        overflow-x: auto;\n",
              "        padding: 8px 12px;\n",
              "        max-height: 500px;\n",
              "      }\n",
              "\n",
              "      pre.function-repr-contents.function-repr-contents-collapsed {\n",
              "        cursor: pointer;\n",
              "        max-height: 100px;\n",
              "      }\n",
              "    </style>\n",
              "    <pre style=\"white-space: initial; background:\n",
              "         var(--colab-secondary-surface-color); padding: 8px 12px;\n",
              "         border-bottom: 1px solid var(--colab-border-color);\"><b>pandas.core.frame.DataFrame</b><br/>def __init__(data=None, index: Axes | None=None, columns: Axes | None=None, dtype: Dtype | None=None, copy: bool | None=None) -&gt; None</pre><pre class=\"function-repr-contents function-repr-contents-collapsed\" style=\"\"><a class=\"filepath\" style=\"display:none\" href=\"#\">/usr/local/lib/python3.11/dist-packages/pandas/core/frame.py</a>Two-dimensional, size-mutable, potentially heterogeneous tabular data.\n",
              "\n",
              "Data structure also contains labeled axes (rows and columns).\n",
              "Arithmetic operations align on both row and column labels. Can be\n",
              "thought of as a dict-like container for Series objects. The primary\n",
              "pandas data structure.\n",
              "\n",
              "Parameters\n",
              "----------\n",
              "data : ndarray (structured or homogeneous), Iterable, dict, or DataFrame\n",
              "    Dict can contain Series, arrays, constants, dataclass or list-like objects. If\n",
              "    data is a dict, column order follows insertion-order. If a dict contains Series\n",
              "    which have an index defined, it is aligned by its index. This alignment also\n",
              "    occurs if data is a Series or a DataFrame itself. Alignment is done on\n",
              "    Series/DataFrame inputs.\n",
              "\n",
              "    If data is a list of dicts, column order follows insertion-order.\n",
              "\n",
              "index : Index or array-like\n",
              "    Index to use for resulting frame. Will default to RangeIndex if\n",
              "    no indexing information part of input data and no index provided.\n",
              "columns : Index or array-like\n",
              "    Column labels to use for resulting frame when data does not have them,\n",
              "    defaulting to RangeIndex(0, 1, 2, ..., n). If data contains column labels,\n",
              "    will perform column selection instead.\n",
              "dtype : dtype, default None\n",
              "    Data type to force. Only a single dtype is allowed. If None, infer.\n",
              "copy : bool or None, default None\n",
              "    Copy data from inputs.\n",
              "    For dict data, the default of None behaves like ``copy=True``.  For DataFrame\n",
              "    or 2d ndarray input, the default of None behaves like ``copy=False``.\n",
              "    If data is a dict containing one or more Series (possibly of different dtypes),\n",
              "    ``copy=False`` will ensure that these inputs are not copied.\n",
              "\n",
              "    .. versionchanged:: 1.3.0\n",
              "\n",
              "See Also\n",
              "--------\n",
              "DataFrame.from_records : Constructor from tuples, also record arrays.\n",
              "DataFrame.from_dict : From dicts of Series, arrays, or dicts.\n",
              "read_csv : Read a comma-separated values (csv) file into DataFrame.\n",
              "read_table : Read general delimited file into DataFrame.\n",
              "read_clipboard : Read text from clipboard into DataFrame.\n",
              "\n",
              "Notes\n",
              "-----\n",
              "Please reference the :ref:`User Guide &lt;basics.dataframe&gt;` for more information.\n",
              "\n",
              "Examples\n",
              "--------\n",
              "Constructing DataFrame from a dictionary.\n",
              "\n",
              "&gt;&gt;&gt; d = {&#x27;col1&#x27;: [1, 2], &#x27;col2&#x27;: [3, 4]}\n",
              "&gt;&gt;&gt; df = pd.DataFrame(data=d)\n",
              "&gt;&gt;&gt; df\n",
              "   col1  col2\n",
              "0     1     3\n",
              "1     2     4\n",
              "\n",
              "Notice that the inferred dtype is int64.\n",
              "\n",
              "&gt;&gt;&gt; df.dtypes\n",
              "col1    int64\n",
              "col2    int64\n",
              "dtype: object\n",
              "\n",
              "To enforce a single dtype:\n",
              "\n",
              "&gt;&gt;&gt; df = pd.DataFrame(data=d, dtype=np.int8)\n",
              "&gt;&gt;&gt; df.dtypes\n",
              "col1    int8\n",
              "col2    int8\n",
              "dtype: object\n",
              "\n",
              "Constructing DataFrame from a dictionary including Series:\n",
              "\n",
              "&gt;&gt;&gt; d = {&#x27;col1&#x27;: [0, 1, 2, 3], &#x27;col2&#x27;: pd.Series([2, 3], index=[2, 3])}\n",
              "&gt;&gt;&gt; pd.DataFrame(data=d, index=[0, 1, 2, 3])\n",
              "   col1  col2\n",
              "0     0   NaN\n",
              "1     1   NaN\n",
              "2     2   2.0\n",
              "3     3   3.0\n",
              "\n",
              "Constructing DataFrame from numpy ndarray:\n",
              "\n",
              "&gt;&gt;&gt; df2 = pd.DataFrame(np.array([[1, 2, 3], [4, 5, 6], [7, 8, 9]]),\n",
              "...                    columns=[&#x27;a&#x27;, &#x27;b&#x27;, &#x27;c&#x27;])\n",
              "&gt;&gt;&gt; df2\n",
              "   a  b  c\n",
              "0  1  2  3\n",
              "1  4  5  6\n",
              "2  7  8  9\n",
              "\n",
              "Constructing DataFrame from a numpy ndarray that has labeled columns:\n",
              "\n",
              "&gt;&gt;&gt; data = np.array([(1, 2, 3), (4, 5, 6), (7, 8, 9)],\n",
              "...                 dtype=[(&quot;a&quot;, &quot;i4&quot;), (&quot;b&quot;, &quot;i4&quot;), (&quot;c&quot;, &quot;i4&quot;)])\n",
              "&gt;&gt;&gt; df3 = pd.DataFrame(data, columns=[&#x27;c&#x27;, &#x27;a&#x27;])\n",
              "...\n",
              "&gt;&gt;&gt; df3\n",
              "   c  a\n",
              "0  3  1\n",
              "1  6  4\n",
              "2  9  7\n",
              "\n",
              "Constructing DataFrame from dataclass:\n",
              "\n",
              "&gt;&gt;&gt; from dataclasses import make_dataclass\n",
              "&gt;&gt;&gt; Point = make_dataclass(&quot;Point&quot;, [(&quot;x&quot;, int), (&quot;y&quot;, int)])\n",
              "&gt;&gt;&gt; pd.DataFrame([Point(0, 0), Point(0, 3), Point(2, 3)])\n",
              "   x  y\n",
              "0  0  0\n",
              "1  0  3\n",
              "2  2  3\n",
              "\n",
              "Constructing DataFrame from Series/DataFrame:\n",
              "\n",
              "&gt;&gt;&gt; ser = pd.Series([1, 2, 3], index=[&quot;a&quot;, &quot;b&quot;, &quot;c&quot;])\n",
              "&gt;&gt;&gt; df = pd.DataFrame(data=ser, index=[&quot;a&quot;, &quot;c&quot;])\n",
              "&gt;&gt;&gt; df\n",
              "   0\n",
              "a  1\n",
              "c  3\n",
              "\n",
              "&gt;&gt;&gt; df1 = pd.DataFrame([1, 2, 3], index=[&quot;a&quot;, &quot;b&quot;, &quot;c&quot;], columns=[&quot;x&quot;])\n",
              "&gt;&gt;&gt; df2 = pd.DataFrame(data=df1, index=[&quot;a&quot;, &quot;c&quot;])\n",
              "&gt;&gt;&gt; df2\n",
              "   x\n",
              "a  1\n",
              "c  3</pre>\n",
              "      <script>\n",
              "      if (google.colab.kernel.accessAllowed && google.colab.files && google.colab.files.view) {\n",
              "        for (const element of document.querySelectorAll('.filepath')) {\n",
              "          element.style.display = 'block'\n",
              "          element.onclick = (event) => {\n",
              "            event.preventDefault();\n",
              "            event.stopPropagation();\n",
              "            google.colab.files.view(element.textContent, 509);\n",
              "          };\n",
              "        }\n",
              "      }\n",
              "      for (const element of document.querySelectorAll('.function-repr-contents')) {\n",
              "        element.onclick = (event) => {\n",
              "          event.preventDefault();\n",
              "          event.stopPropagation();\n",
              "          element.classList.toggle('function-repr-contents-collapsed');\n",
              "        };\n",
              "      }\n",
              "      </script>\n",
              "      </div>"
            ]
          },
          "metadata": {},
          "execution_count": 59
        }
      ]
    },
    {
      "cell_type": "markdown",
      "source": [
        "# Data"
      ],
      "metadata": {
        "id": "72T8jcwLdl64"
      }
    },
    {
      "cell_type": "code",
      "source": [
        "# Handle Missing Data\n",
        "data = data.ffill().bfill()\n",
        "\n",
        "# Align data\n",
        "data = data.dropna(how='any')"
      ],
      "metadata": {
        "id": "bDaQnw2SlMsr"
      },
      "execution_count": null,
      "outputs": []
    },
    {
      "cell_type": "code",
      "source": [
        "# Finding out the available datapoints categories in our dataset\n",
        "data.columns.levels[0]"
      ],
      "metadata": {
        "id": "KYDpEuCeAHPr",
        "collapsed": true,
        "colab": {
          "base_uri": "https://localhost:8080/"
        },
        "outputId": "5f807fda-d9df-4438-ca01-139f176f07df"
      },
      "execution_count": null,
      "outputs": [
        {
          "output_type": "execute_result",
          "data": {
            "text/plain": [
              "Index(['Adj Close', 'Close', 'High', 'Low', 'Open', 'Volume'], dtype='object', name='Price')"
            ]
          },
          "metadata": {},
          "execution_count": 32
        }
      ]
    },
    {
      "cell_type": "code",
      "source": [
        "# Adjusted CLosing Price\n",
        "\n",
        "ticker = ['TSLA']\n",
        "adj_close_SP500 = data[\"Adj Close\"][ticker]\n",
        "print(adj_close_SP500.head())\n",
        "\n",
        "# Volume\n",
        "volumes_SP500 = data[\"Volume\"]\n",
        "\n",
        "# Log Returns\n",
        "log_returns = np.log(data['Adj Close'] / data['Adj Close'].shift(1))\n",
        "\n",
        "# MACD\n",
        "ema12 = adj_close_SP500.ewm(span=12, adjust=False).mean()\n",
        "ema26 = adj_close_SP500.ewm(span=26, adjust=False).mean()\n",
        "macd = ema12 - ema26"
      ],
      "metadata": {
        "id": "AVuaFaC1AbHX",
        "colab": {
          "base_uri": "https://localhost:8080/"
        },
        "outputId": "033b32f6-c351-4f9e-cfbf-5bfcaa558b68"
      },
      "execution_count": null,
      "outputs": [
        {
          "output_type": "stream",
          "name": "stdout",
          "text": [
            "Empty DataFrame\n",
            "Columns: [TSLA]\n",
            "Index: []\n"
          ]
        }
      ]
    },
    {
      "cell_type": "markdown",
      "source": [
        "# Hurst Exponent\n",
        "\n",
        "The `hurst_exponent` function calculates the **Hurst exponent** of a time series using the **Rescaled Range (R/S) Analysis** method. The Hurst exponent is a measure of long-term memory and persistence in time series data, with values ranging from 0 to 1.\n",
        "\n",
        "The function divides the input time series (`ts`) into overlapping segments of varying lengths (determined by `min_window` and `max_window`). For each segment, it calculates the **Rescaled Range (R/S)** by first finding the cumulative deviation of the segment from its mean, determining the range (`R`) of the cumulative deviation, and scaling it by the standard deviation (`S`). The function then computes the average R/S values for each segment size and logs these values along with the segment sizes. Finally, it performs a linear regression on the logarithmic values of segment sizes and R/S values, returning the slope of the regression line as the estimated **Hurst exponent**.\n",
        "\n",
        "The Hurst exponent's value provides insights into the behavior of the time series:\n",
        "- **H < 0.5**: Anti-persistent (mean-reverting).\n",
        "- **H = 0.5**: Random walk (no memory).\n",
        "- **H > 0.5**: Persistent (trending behavior).\n",
        "\n",
        "This function is critical in financial and scientific analysis to determine if a time series is trending, mean-reverting, or random."
      ],
      "metadata": {
        "id": "sLbPmRIsd7qe"
      }
    },
    {
      "cell_type": "code",
      "source": [
        "def hurst_exponent(ts, min_window=10, max_window=None):\n",
        "    \"\"\"\n",
        "    Calculate the Hurst exponent using Rescaled Range (R/S) Analysis with robust checks.\n",
        "    \"\"\"\n",
        "    if len(ts) < min_window:\n",
        "        return np.nan  # Case for insufficient data\n",
        "\n",
        "    if max_window is None:\n",
        "        max_window = len(ts) // 2\n",
        "\n",
        "    log_returns = np.log(ts / ts.shift(1)).dropna()\n",
        "    log_returns = log_returns.values\n",
        "\n",
        "    segment_sizes = np.arange(min_window, max_window, step=(max_window - min_window) // 10)\n",
        "    rs_values = []\n",
        "\n",
        "    for n in segment_sizes:\n",
        "        num_segments = len(log_returns) // n    # No. of full segments\n",
        "        rs = []\n",
        "\n",
        "        for k in range(num_segments):\n",
        "          segment = log_returns[k * n : (k+1) * n]\n",
        "          mean_adjusted = segment - segment.mean()    # Mean-adjusted\n",
        "\n",
        "          cum_dev = np.cumsum(mean_adjusted)   # Cumulative sum of mean-adjusted returns\n",
        "\n",
        "          # Range & S.D.\n",
        "          R = cum_dev.max() - cum_dev.min()\n",
        "          S = np.std(segment)\n",
        "\n",
        "          if S > 0:\n",
        "            rs.append(R / S)         # Avoid division by zero\n",
        "\n",
        "        if len(rs) > 0:\n",
        "          rs_values.append(np.mean(rs))    # Avg. R/S for segment size\n",
        "        else:\n",
        "          rs_values.append(np.nan)\n",
        "\n",
        "\n",
        "    log_n = np.log(segment_sizes)\n",
        "    log_rs = np.log(rs_values)\n",
        "\n",
        "    valid_indices = np.isfinite(log_n) & np.isfinite(log_rs)\n",
        "    if valid_indices.sum() < 2:\n",
        "        return np.nan  # Not enough valid data points for regression\n",
        "\n",
        "    slope, _, _, _, _ = linregress(log_n[valid_indices], log_rs[valid_indices])     # OLS Regression\n",
        "\n",
        "    # Constrain the Hurst exponent to [0, 1]\n",
        "    return slope"
      ],
      "metadata": {
        "id": "RU5KahIFsWsw"
      },
      "execution_count": null,
      "outputs": []
    },
    {
      "cell_type": "markdown",
      "source": [
        "The `calculate_hurst_rolling` function computes the **rolling Hurst exponent** for each stock (or time series) in a given DataFrame over a specified window size. The Hurst exponent provides insight into the long-term memory and behavior of a time series, indicating whether it is trending, mean-reverting, or random.\n",
        "\n",
        "This function takes as input:\n",
        "1. A **DataFrame** (`data`) containing adjusted close prices of multiple stocks, with rows representing time and columns representing individual stock tickers.\n",
        "2. A **rolling window size** (`window`) that determines the number of data points to include in each Hurst calculation.\n",
        "\n",
        "For each stock (column) in the DataFrame:\n",
        "1. The function applies a rolling window operation, where for every subset of the time series within the window, it calculates the **Hurst exponent** using the previously defined `hurst_exponent` function.\n",
        "2. The calculated Hurst values are stored in a new DataFrame (`hurst_df`), with the same structure as the input data.\n",
        "\n",
        "The result is a DataFrame containing the **rolling Hurst exponent values** for each stock, indexed by time."
      ],
      "metadata": {
        "id": "YItS50pAdisj"
      }
    },
    {
      "cell_type": "code",
      "source": [
        "def calculate_rolling_hurst(data, window=60, min_window=10):\n",
        "    \"\"\"\n",
        "      Calculate the rolling Hurst exponent for a DataFrame.\n",
        "\n",
        "      Parameters:\n",
        "          data (pd.DataFrame): Adjusted close prices of stocks.\n",
        "          window (int): Rolling window size for Hurst exponent calculation.\n",
        "\n",
        "      Returns:\n",
        "          pd.DataFrame: DataFrame with rolling Hurst exponent values.\n",
        "      \"\"\"\n",
        "    def process_column(column):\n",
        "        ts = data[column].dropna()\n",
        "        if len(ts) < window:\n",
        "            return [np.nan] * len(data)\n",
        "        rolling_hurst = ts.rolling(window).apply(lambda x: hurst_exponent(x, min_window=min_window), raw=False)\n",
        "        return rolling_hurst\n",
        "\n",
        "    # Parallelise the rolling Hurst exponent calculation across columns\n",
        "    results = Parallel(n_jobs=-1)(delayed(process_column)(col) for col in data.columns)\n",
        "    hurst_df = pd.DataFrame({col: result for col, result in zip(data.columns, results)}, index=data.index)\n",
        "    return hurst_df"
      ],
      "metadata": {
        "id": "2K-Zsl4Lc8Ro"
      },
      "execution_count": null,
      "outputs": []
    },
    {
      "cell_type": "code",
      "source": [
        "# Calculate 60-day rolling Hurst exponent for S&P500 Stocks\n",
        "hurst_rolling = calculate_rolling_hurst(adj_close_SP500, window=60)\n",
        "\n",
        "print(hurst_rolling)\n",
        "hurst_rolling.to_csv('hurst_rolling_aapl.csv')"
      ],
      "metadata": {
        "colab": {
          "base_uri": "https://localhost:8080/"
        },
        "id": "PoY99Z9NmZJ7",
        "outputId": "b82a9de3-3112-4f22-ee15-35ad1f1776bc"
      },
      "execution_count": null,
      "outputs": [
        {
          "output_type": "stream",
          "name": "stdout",
          "text": [
            "Empty DataFrame\n",
            "Columns: [TSLA]\n",
            "Index: []\n"
          ]
        }
      ]
    },
    {
      "cell_type": "markdown",
      "source": [
        "The `smooth_series` function applies a **moving average** over a given time series to reduce short-term fluctuations and smooth out noise. In the context of the **rolling Hurst exponent**, the function cleans up the raw output, which can often appear erratic due to high-frequency market volatility. By averaging values over a specified window size, the function makes it easier to interpret whether the market is trending, mean-reverting, or behaving randomly.\n",
        "\n",
        " While this basic smoothing technique provides an initial layer of noise reduction, **Kalman noise filtering** will be applied later to achieve more advanced and adaptive noise reduction, ensuring that the rolling Hurst exponent reflects a clearer, more accurate signal for analysis and decision-making."
      ],
      "metadata": {
        "id": "6W76OHFiudgA"
      }
    },
    {
      "cell_type": "code",
      "source": [
        "def smooth_series(series, window=10):\n",
        "    \"\"\"\n",
        "    Apply a moving average to smooth out the series.\n",
        "    \"\"\"\n",
        "    return series.rolling(window=window, center=True).mean()"
      ],
      "metadata": {
        "id": "7445UPPstxga"
      },
      "execution_count": null,
      "outputs": []
    },
    {
      "cell_type": "code",
      "source": [
        "ticker = \"TSLA\"\n",
        "hurst_rolling_smoothed = hurst_rolling[ticker].copy()\n",
        "hurst_rolling_smoothed = smooth_series(hurst_rolling_smoothed, window=10)\n",
        "\n",
        "plt.figure(figsize=(10, 6))\n",
        "plt.plot(hurst_rolling.index, hurst_rolling_smoothed, label=f\"Hurst Exponent ({ticker})\")\n",
        "plt.axhline(0.5, color='red', linestyle='--', label='Random Walk Threshold (H=0.5)')\n",
        "plt.axhline(0.6, color='green', linestyle='--', label='Trending Threshold (H=0.6)')\n",
        "plt.axhline(0.4, color='blue', linestyle='--', label='Mean-Reverting Threshold (H=0.4)')\n",
        "plt.title(f\"Hurst Exponent for {ticker}\")\n",
        "plt.xlabel(\"Date\")\n",
        "plt.ylabel(\"Hurst Exponent\")\n",
        "plt.legend()\n",
        "plt.show()"
      ],
      "metadata": {
        "colab": {
          "base_uri": "https://localhost:8080/",
          "height": 564
        },
        "id": "P7TNrkJWp6JV",
        "outputId": "ebf27177-e2b5-4b4f-f122-eff28d8b92b5"
      },
      "execution_count": null,
      "outputs": [
        {
          "output_type": "display_data",
          "data": {
            "text/plain": [
              "<Figure size 1000x600 with 1 Axes>"
            ],
            "image/png": "[encoded data removed]"
          },
          "metadata": {}
        }
      ]
    },
    {
      "cell_type": "code",
      "source": [
        "# Kalman filtering for Hurst exponent to reduce noise in signals\n",
        "\n",
        "# Reference used: https://web.stanford.edu/class/ee363/lectures/kf.pdf\n",
        "\n",
        "# Note: np.dot and @ for numpy does the same operation (Matrix multiplication)\n",
        "\n",
        "# TODO: Add comments\n",
        "\n",
        "class KalmanFilter:\n",
        "  def __init__(self, process_noise=1e-5, measurement_noise=0.01, init_hurst_val=0.5):\n",
        "    \"\"\"\n",
        "    Initializes the Kalman Filter with default noise values and an initial estimate.\n",
        "\n",
        "    Parameters:\n",
        "        process_noise (float):\n",
        "            The process noise covariance. A small positive value ensures smooth hurst exponent value evolution.\n",
        "        measurement_noise (float):\n",
        "            The measurement noise covariance. Represents the uncertainty in the observations.\n",
        "        init_hurst_val (float):\n",
        "            Initial estimate of the Hurst exponent.\n",
        "    \"\"\"\n",
        "    self.hurst_val = np.array([[init_hurst_val]])\n",
        "    self.cov = np.array([[1]])\n",
        "    self.hurst_transition = np.array([[1]])\n",
        "    self.measurement = np.array([[1]])\n",
        "    self.cov_noise = np.array([[process_noise]])\n",
        "    self.measurement_noise = np.array([[measurement_noise]])\n",
        "    self.kalman_gain = np.array([[1]])\n",
        "\n",
        "  def predict(self):\n",
        "    self.hurst_val = np.dot(self.hurst_transition, self.hurst_val)\n",
        "    self.cov = np.dot(np.dot(self.hurst_transition, self.cov), self.hurst_transition.T) + self.cov_noise\n",
        "\n",
        "  def update(self, measurement):\n",
        "    self.kalman_gain = np.dot(np.dot(self.cov, self.measurement.T), np.linalg.inv(np.dot(np.dot(self.measurement, self.cov), self.measurement.T) + self.measurement_noise))\n",
        "    self.hurst_val = self.hurst_val + np.dot(self.kalman_gain, (measurement - np.dot(self.measurement, self.hurst_val)))\n",
        "    self.cov = self.cov - np.dot(np.dot(self.kalman_gain, self.measurement), self.cov)\n",
        "    # latest value of the hurst exponent\n",
        "    return self.hurst_val[0, 0]\n",
        "\n",
        "def kalman_smooth_hurst(hurst_series):\n",
        "  kalman_filter = KalmanFilter()\n",
        "  smoothed_hurst = []\n",
        "  for value in hurst_series:\n",
        "    kalman_filter.predict()\n",
        "    if np.isfinite(value):\n",
        "      smoothed_hurst_val = kalman_filter.update(value)\n",
        "    else:\n",
        "      smoothed_hurst_val = kalman_filter.hurst_val[0, 0]\n",
        "    smoothed_hurst.append(smoothed_hurst_val)\n",
        "  return smoothed_hurst\n",
        "\n"
      ],
      "metadata": {
        "id": "fLxzujHlNsMx"
      },
      "execution_count": null,
      "outputs": []
    },
    {
      "cell_type": "markdown",
      "source": [],
      "metadata": {
        "id": "-xTLoA_yv6c9"
      }
    },
    {
      "cell_type": "code",
      "source": [
        "# Using the kalman filter to smooth out noises from the raw hurst exponent calculations\n",
        "\n",
        "hurst_rolling_smoothed = hurst_rolling[ticker].copy()\n",
        "hurst_rolling_smoothed_values = smooth_series(hurst_rolling_smoothed, window=10)\n",
        "hurst_rolling_smoothed[:] = kalman_smooth_hurst(hurst_rolling_smoothed_values)\n",
        "print(hurst_rolling_smoothed)"
      ],
      "metadata": {
        "colab": {
          "base_uri": "https://localhost:8080/"
        },
        "id": "C0NFWT_qymri",
        "outputId": "0c3807f6-e909-4270-a381-23470c092853"
      },
      "execution_count": null,
      "outputs": [
        {
          "output_type": "stream",
          "name": "stdout",
          "text": [
            "Series([], Name: TSLA, dtype: float64)\n"
          ]
        }
      ]
    },
    {
      "cell_type": "code",
      "source": [
        "plt.figure(figsize=(10, 6))\n",
        "plt.plot(hurst_rolling.index, hurst_rolling_smoothed_values, label=\"Original Hurst Exponent\", alpha=0.5)\n",
        "plt.plot(hurst_rolling.index, hurst_rolling_smoothed, label=\"Kalman Smoothed Hurst Exponent\", linewidth=2)\n",
        "plt.axhline(0.5, color='red', linestyle='--', label='Random Walk Threshold (H=0.5)')\n",
        "plt.axhline(0.6, color='green', linestyle='--', label='Trending Threshold (H=0.6)')\n",
        "plt.axhline(0.4, color='blue', linestyle='--', label='Mean-Reverting Threshold (H=0.4)')\n",
        "plt.title(f\"Kalman Smoothed Hurst Exponent for {ticker}\")\n",
        "plt.xlabel(\"Date\")\n",
        "plt.ylabel(\"Hurst Exponent\")\n",
        "plt.legend(loc='upper center', bbox_to_anchor=(0.5, -0.15), ncol=2)\n",
        "plt.show()"
      ],
      "metadata": {
        "colab": {
          "base_uri": "https://localhost:8080/",
          "height": 664
        },
        "id": "GtU6Asq_0-_f",
        "outputId": "6f78630d-af65-49a0-b1b9-48a17e351080"
      },
      "execution_count": null,
      "outputs": [
        {
          "output_type": "display_data",
          "data": {
            "text/plain": [
              "<Figure size 1000x600 with 1 Axes>"
            ],
            "image/png": "[encoded data removed]"
          },
          "metadata": {}
        }
      ]
    },
    {
      "cell_type": "code",
      "source": [
        "def baseline_trading_strategy(prices, hurst_roll, sma60, hbuy=0.7, hsell=0.4):\n",
        "    \"\"\"\n",
        "    Baseline trading logic\n",
        "\n",
        "    Parameters:\n",
        "        prices (pd.DataFrame): DataFrame of stock prices.\n",
        "        hurst_roll (pd.DataFrame): DataFrame of rolling Hurst exponent values.\n",
        "        sma60 (pd.DataFrame): DataFrame of 60-day SMA values.\n",
        "        hbuy (float): Hurst exponent buy threshold.\n",
        "        hsell (float): Hurst exponent sell threshold.\n",
        "\n",
        "    Returns:\n",
        "        pd.DataFrame: DataFrame with buy/sell signals and positions for each ticker.\n",
        "    \"\"\"\n",
        "    results = pd.DataFrame(index=prices.index, columns=pd.MultiIndex.from_product([prices.columns, [\"Signal\", \"Position\"]]))\n",
        "\n",
        "    for ticker in prices.columns:\n",
        "        q = 0  # Position: 0 = no position, 1 = long position\n",
        "        for i in range(len(prices)):\n",
        "            price = prices[ticker].iloc[i]\n",
        "            hurst = hurst_roll[ticker].iloc[i]\n",
        "            sma = sma60[ticker].iloc[i]\n",
        "\n",
        "            if pd.isna(price) or pd.isna(hurst) or pd.isna(sma):\n",
        "                continue\n",
        "\n",
        "            signal = 0\n",
        "            if q == 0:  # No position\n",
        "                if price > sma and hurst > hbuy:\n",
        "                    q = 1\n",
        "                    signal = 1  # Buy signal\n",
        "            elif q == 1:  # Long position\n",
        "                if price < sma or hurst < hsell:\n",
        "                    q = 0\n",
        "                    signal = -1  # Sell signal\n",
        "\n",
        "            results.loc[prices.index[i], (ticker, \"Signal\")] = signal\n",
        "            results.loc[prices.index[i], (ticker, \"Position\")] = q\n",
        "\n",
        "    return results\n",
        "\n",
        "\n",
        "\n"
      ],
      "metadata": {
        "id": "p6Yrs8bf2bhx"
      },
      "execution_count": null,
      "outputs": []
    },
    {
      "cell_type": "code",
      "source": [
        "sma_60 = adj_close_SP500.rolling(window=60).mean().fillna(method=\"ffill\").fillna(method=\"bfill\")\n",
        "\n",
        "hurst_rolling = hurst_rolling.reindex(adj_close_SP500.index).fillna(method=\"ffill\").fillna(method=\"bfill\")\n",
        "sma_60 = sma_60.reindex(adj_close_SP500.index).fillna(method=\"ffill\").fillna(method=\"bfill\")"
      ],
      "metadata": {
        "colab": {
          "base_uri": "https://localhost:8080/"
        },
        "id": "OIA4kZDGvmRA",
        "outputId": "33116922-15bb-4dca-8ea8-16923506236b"
      },
      "execution_count": null,
      "outputs": [
        {
          "output_type": "stream",
          "name": "stderr",
          "text": [
            "<ipython-input-43-caf8a5cc9e9e>:1: FutureWarning: DataFrame.fillna with 'method' is deprecated and will raise in a future version. Use obj.ffill() or obj.bfill() instead.\n",
            "  sma_60 = adj_close_SP500.rolling(window=60).mean().fillna(method=\"ffill\").fillna(method=\"bfill\")\n",
            "<ipython-input-43-caf8a5cc9e9e>:3: FutureWarning: DataFrame.fillna with 'method' is deprecated and will raise in a future version. Use obj.ffill() or obj.bfill() instead.\n",
            "  hurst_rolling = hurst_rolling.reindex(adj_close_SP500.index).fillna(method=\"ffill\").fillna(method=\"bfill\")\n",
            "<ipython-input-43-caf8a5cc9e9e>:4: FutureWarning: DataFrame.fillna with 'method' is deprecated and will raise in a future version. Use obj.ffill() or obj.bfill() instead.\n",
            "  sma_60 = sma_60.reindex(adj_close_SP500.index).fillna(method=\"ffill\").fillna(method=\"bfill\")\n"
          ]
        }
      ]
    },
    {
      "cell_type": "code",
      "source": [
        "results = baseline_trading_strategy(adj_close_SP500, hurst_rolling, sma_60)\n",
        "\n",
        "print(results.head())\n",
        "results.to_csv(\"baseline_results.csv\")"
      ],
      "metadata": {
        "colab": {
          "base_uri": "https://localhost:8080/"
        },
        "id": "Vdwks6mSuaCp",
        "outputId": "d6c83d1c-e3cc-4e5d-dd12-22b875dd4563"
      },
      "execution_count": null,
      "outputs": [
        {
          "output_type": "stream",
          "name": "stdout",
          "text": [
            "Empty DataFrame\n",
            "Columns: [(TSLA, Signal), (TSLA, Position)]\n",
            "Index: []\n"
          ]
        }
      ]
    },
    {
      "cell_type": "code",
      "source": [
        "# Supertrend trading strategy"
      ],
      "metadata": {
        "id": "Zv7fjhE-zxI5"
      },
      "execution_count": null,
      "outputs": []
    },
    {
      "cell_type": "code",
      "source": [
        "\n",
        "# Calculate True Range (TR)\n",
        "data['Previous_Close'] = data[('Close', 'TSLA')].shift(1)\n",
        "data['HL'] = data[('High', 'TSLA')] - data[('Low', 'TSLA')]\n",
        "\n",
        "data['HC'] = abs(data[('High', 'TSLA')] - data['Previous_Close'])\n",
        "data['LC'] = abs(data[('Low', 'TSLA')] - data['Previous_Close'])\n",
        "data['TR'] = data[['HL', 'HC', 'LC']].max(axis=1)  # True Range is max of HL, HC, and LC\n",
        "\n",
        "# Calculate ATR as rolling mean of TR\n",
        "atr_period = 10\n",
        "data['ATR'] = data['TR'].rolling(window=atr_period).mean()\n",
        "\n"
      ],
      "metadata": {
        "id": "UbtUg_KSa5Hl"
      },
      "execution_count": null,
      "outputs": []
    },
    {
      "cell_type": "code",
      "source": [
        "multiplier = 3\n",
        "data['Upper_Band'] = data[('Close', 'TSLA')] + (multiplier * data['ATR'])\n",
        "data['Lower_Band'] = data[('Close', 'TSLA')] - (multiplier * data['ATR'])"
      ],
      "metadata": {
        "id": "WEKH1vsiiHWO"
      },
      "execution_count": null,
      "outputs": []
    },
    {
      "cell_type": "code",
      "source": [
        "# Initialize SuperTrend column\n",
        "data['SuperTrend'] = 0.0\n",
        "in_uptrend = True  # Initial trend direction\n",
        "\n",
        "# Calculate SuperTrend values iteratively\n",
        "for i in range(len(data)):\n",
        "    if i == 0:  # First row\n",
        "        data.loc[data.index[i], 'SuperTrend'] = data['Lower_Band'].iloc[i]\n",
        "        continue\n",
        "\n",
        "    if data[('Close', 'TSLA')].iloc[i] > data['SuperTrend'].iloc[i - 1]:  # Price is above SuperTrend\n",
        "        in_uptrend = True\n",
        "    elif data[('Close', 'TSLA')].iloc[i] < data['SuperTrend'].iloc[i - 1]:  # Price is below SuperTrend\n",
        "        in_uptrend = False\n",
        "\n",
        "    if in_uptrend:\n",
        "        data.loc[data.index[i], 'SuperTrend'] = max(\n",
        "            data['Lower_Band'].iloc[i], data['SuperTrend'].iloc[i - 1]\n",
        "        )\n",
        "    else:\n",
        "        data.loc[data.index[i], 'SuperTrend'] = min(\n",
        "            data['Upper_Band'].iloc[i], data['SuperTrend'].iloc[i - 1]\n",
        "        )\n",
        "\n",
        "# Display the resulting DataFrame with SuperTrend\n",
        "print(data[['Close', 'ATR', 'Upper_Band', 'Lower_Band', 'SuperTrend']])"
      ],
      "metadata": {
        "colab": {
          "base_uri": "https://localhost:8080/"
        },
        "id": "q0kRtGK-l7bH",
        "outputId": "f109feea-b26b-4bc8-d7cf-0014da6804eb"
      },
      "execution_count": null,
      "outputs": [
        {
          "output_type": "stream",
          "name": "stdout",
          "text": [
            "Empty DataFrame\n",
            "Columns: [(Close, TSLA), (ATR, ), (Upper_Band, ), (Lower_Band, ), (SuperTrend, )]\n",
            "Index: []\n"
          ]
        }
      ]
    },
    {
      "cell_type": "code",
      "source": [
        "def generate_signals(data, hurst, supertrend, hurst_trend_threshold=0.6, hurst_revert_threshold=0.4):\n",
        "    \"\"\"\n",
        "    Generate trading signals based on Hurst exponent and SuperTrend.\n",
        "\n",
        "    Parameters:\n",
        "        data (pd.DataFrame): Input DataFrame containing 'Close' prices.\n",
        "        hurst (list or np.array): Hurst exponent values.\n",
        "        supertrend (list or np.array): SuperTrend values.\n",
        "        hurst_trend_threshold (float): Threshold for trending market.\n",
        "        hurst_revert_threshold (float): Threshold for mean-reverting market.\n",
        "\n",
        "    Returns:\n",
        "        list: List of signals (1 for buy, -1 for sell, 0 for hold).\n",
        "    \"\"\"\n",
        "    signals = []\n",
        "\n",
        "    for i in range(len(data)):\n",
        "        # Skip rows with NaN SuperTrend or Hurst values\n",
        "        if pd.isna(supertrend[i]) or pd.isna(hurst[i]):\n",
        "            signals.append(2)  # Hold\n",
        "            continue\n",
        "\n",
        "        # Trending Market (Hurst > hurst_trend_threshold)\n",
        "        if hurst[i] > hurst_trend_threshold:\n",
        "            if data[('Close', 'TSLA')].iloc[i] > supertrend[i]:  # Price > SuperTrend -> Buy\n",
        "                signals.append(1)\n",
        "            elif data[('Close', 'TSLA')].iloc[i] < supertrend[i]:  # Price < SuperTrend -> Sell\n",
        "                signals.append(-1)\n",
        "            else:\n",
        "                signals.append(0)\n",
        "\n",
        "        # Mean-Reverting Market (Hurst < hurst_revert_threshold)\n",
        "        elif hurst[i] < hurst_revert_threshold:\n",
        "            signals.append(0)  # Hold in mean-reverting markets\n",
        "\n",
        "        # Random Market (Hurst ~ 0.5)\n",
        "        else:\n",
        "            signals.append(0)  # Hold in uncertain market conditions\n",
        "\n",
        "    return signals"
      ],
      "metadata": {
        "id": "s5Zg8qtkzLv0"
      },
      "execution_count": null,
      "outputs": []
    },
    {
      "cell_type": "code",
      "source": [
        "# Flatten hurst_rolling if it's a list of lists\n",
        "try:\n",
        "    first_value = hurst_rolling.iloc[0].values[0]  # Get the first value\n",
        "    if isinstance(first_value, list):\n",
        "        hurst_rolling_flat = [value[0] for value in hurst_rolling.values]\n",
        "    else:\n",
        "        hurst_rolling_flat = hurst_rolling.values.flatten()  # Flatten the values\n",
        "except IndexError:  # Handle empty DataFrame\n",
        "    hurst_rolling_flat = []\n",
        "\n",
        "# Align hurst_rolling with data index\n",
        "hurst_rolling_series = pd.Series(hurst_rolling_flat, index=data.index[:len(hurst_rolling_flat)])\n",
        "hurst_rolling_aligned = hurst_rolling_series.reindex(data.index).fillna(method='ffill').fillna(method='bfill').tolist()\n",
        "\n",
        "# Drop rows with NaN in SuperTrend\n",
        "data = data.dropna(subset=[('SuperTrend', '')])\n",
        "\n",
        "# Generate signals\n",
        "signals = generate_signals(data, hurst_rolling_aligned, data[('SuperTrend', '')].tolist())\n",
        "\n",
        "# Add signals to the DataFrame\n",
        "data['Signal'] = signals\n",
        "\n",
        "# Display the results\n",
        "print(data[['Close', 'SuperTrend', 'Signal']].head(30))\n"
      ],
      "metadata": {
        "colab": {
          "base_uri": "https://localhost:8080/"
        },
        "id": "lOlnyrOKpHVM",
        "outputId": "75947aea-16eb-4fa6-a6d2-fbecc897d8fa"
      },
      "execution_count": null,
      "outputs": [
        {
          "output_type": "stream",
          "name": "stdout",
          "text": [
            "Empty DataFrame\n",
            "Columns: [(Close, TSLA), (SuperTrend, ), (Signal, )]\n",
            "Index: []\n"
          ]
        },
        {
          "output_type": "stream",
          "name": "stderr",
          "text": [
            "<ipython-input-50-16aa7e39420a>:13: FutureWarning: Series.fillna with 'method' is deprecated and will raise in a future version. Use obj.ffill() or obj.bfill() instead.\n",
            "  hurst_rolling_aligned = hurst_rolling_series.reindex(data.index).fillna(method='ffill').fillna(method='bfill').tolist()\n"
          ]
        }
      ]
    },
    {
      "cell_type": "code",
      "source": [
        "# Execute backtesting of baseline trading strategy and Hurst+Supertrend trading strategy\n",
        "# Primary metric is expected return. Consider Sharpe ratio."
      ],
      "metadata": {
        "id": "2CLdciDmpqlw"
      },
      "execution_count": null,
      "outputs": []
    },
    {
      "cell_type": "code",
      "source": [
        "# Get TSLA data\n",
        "data['SMA_60'] = data['Close'].rolling(window=60).mean()\n",
        "data['Hurst'] = data['Close'].rolling(window=60).apply(lambda x: hurst_exponent(x, min_window=10), raw=False)"
      ],
      "metadata": {
        "id": "4Z14fP57rUiN",
        "colab": {
          "base_uri": "https://localhost:8080/"
        },
        "outputId": "65a58cca-d65a-47e0-bd24-8748ca6d426f"
      },
      "execution_count": null,
      "outputs": [
        {
          "output_type": "stream",
          "name": "stdout",
          "text": [
            "Empty DataFrame\n",
            "Columns: [(Adj Close, TSLA), (Close, TSLA), (High, TSLA), (Low, TSLA), (Open, TSLA), (Volume, TSLA), (Previous_Close, ), (HL, ), (HC, ), (LC, ), (TR, ), (ATR, ), (Upper_Band, ), (Lower_Band, ), (SuperTrend, ), (Signal, )]\n",
            "Index: []\n"
          ]
        }
      ]
    },
    {
      "cell_type": "code",
      "source": [
        "# trading signals using baseline trading strategy\n",
        "data['Signals'] = baseline_trading_strategy(data, data['SMA_60'], data['Hurst'])\n",
        "\n",
        "# Backtesting performance\n",
        "def backtest_strategy(data, signals, initial_balance=100000, risk_per_trade=0.01, atr_period=14):\n",
        "    balance = initial_balance\n",
        "    position = 0\n",
        "    balance_history = []\n",
        "    data['ATR'] = data['Close'].rolling(window=atr_period).std() * np.sqrt(atr_period)\n",
        "\n",
        "    for i in range(len(data)):\n",
        "        price = data['Close'].iloc[i]\n",
        "        signal = signals[i]\n",
        "        atr = data['ATR'].iloc[i]\n",
        "\n",
        "        if signal == 1 and position == 0:  # Buy signal\n",
        "            risk_amount = balance * risk_per_trade\n",
        "            stop_loss = price - (2 * atr)\n",
        "            position_size = risk_amount / (price - stop_loss)\n",
        "\n",
        "            position = min(position_size, balance / price)\n",
        "            balance -= position * price\n",
        "\n",
        "        elif signal == -1 and position > 0:  # Sell signal\n",
        "            balance += position * price\n",
        "            position = 0\n",
        "\n",
        "        balance_history.append(balance + position * price)\n",
        "\n",
        "    # Calculate performance metrics\n",
        "    returns = pd.Series(balance_history).pct_change().dropna()\n",
        "    expected_return = returns.mean() * 252\n",
        "    sharpe_ratio = (returns.mean() / returns.std()) * np.sqrt(252)\n",
        "\n",
        "    # Visualization of the backtest\n",
        "    plt.figure(figsize=(10, 6))\n",
        "    plt.plot(balance_history, label='Portfolio Value')\n",
        "    plt.xlabel('Time')\n",
        "    plt.ylabel('Portfolio Value ($)')\n",
        "    plt.title('Backtesting Performance of Trading Strategy')\n",
        "    plt.legend()\n",
        "    plt.show()\n",
        "\n",
        "    print(f'Expected Return: {expected_return:.2%}, Sharpe Ratio: {sharpe_ratio:.2f}')\n",
        "    return expected_return, sharpe_ratio\n",
        "\n"
      ],
      "metadata": {
        "colab": {
          "base_uri": "https://localhost:8080/",
          "height": 547
        },
        "id": "ToJ3b9P3uXEY",
        "outputId": "dc956426-22bf-4a28-e821-8f020687a70f"
      },
      "execution_count": null,
      "outputs": [
        {
          "output_type": "error",
          "ename": "KeyError",
          "evalue": "'SMA_60'",
          "traceback": [
            "\u001b[0;31m---------------------------------------------------------------------------\u001b[0m",
            "\u001b[0;31mKeyError\u001b[0m                                  Traceback (most recent call last)",
            "\u001b[0;32m/usr/local/lib/python3.11/dist-packages/pandas/core/indexes/base.py\u001b[0m in \u001b[0;36mget_loc\u001b[0;34m(self, key)\u001b[0m\n\u001b[1;32m   3804\u001b[0m         \u001b[0;32mtry\u001b[0m\u001b[0;34m:\u001b[0m\u001b[0;34m\u001b[0m\u001b[0;34m\u001b[0m\u001b[0m\n\u001b[0;32m-> 3805\u001b[0;31m             \u001b[0;32mreturn\u001b[0m \u001b[0mself\u001b[0m\u001b[0;34m.\u001b[0m\u001b[0m_engine\u001b[0m\u001b[0;34m.\u001b[0m\u001b[0mget_loc\u001b[0m\u001b[0;34m(\u001b[0m\u001b[0mcasted_key\u001b[0m\u001b[0;34m)\u001b[0m\u001b[0;34m\u001b[0m\u001b[0;34m\u001b[0m\u001b[0m\n\u001b[0m\u001b[1;32m   3806\u001b[0m         \u001b[0;32mexcept\u001b[0m \u001b[0mKeyError\u001b[0m \u001b[0;32mas\u001b[0m \u001b[0merr\u001b[0m\u001b[0;34m:\u001b[0m\u001b[0;34m\u001b[0m\u001b[0;34m\u001b[0m\u001b[0m\n",
            "\u001b[0;32mindex.pyx\u001b[0m in \u001b[0;36mpandas._libs.index.IndexEngine.get_loc\u001b[0;34m()\u001b[0m\n",
            "\u001b[0;32mindex.pyx\u001b[0m in \u001b[0;36mpandas._libs.index.IndexEngine.get_loc\u001b[0;34m()\u001b[0m\n",
            "\u001b[0;32mpandas/_libs/hashtable_class_helper.pxi\u001b[0m in \u001b[0;36mpandas._libs.hashtable.PyObjectHashTable.get_item\u001b[0;34m()\u001b[0m\n",
            "\u001b[0;32mpandas/_libs/hashtable_class_helper.pxi\u001b[0m in \u001b[0;36mpandas._libs.hashtable.PyObjectHashTable.get_item\u001b[0;34m()\u001b[0m\n",
            "\u001b[0;31mKeyError\u001b[0m: 'SMA_60'",
            "\nThe above exception was the direct cause of the following exception:\n",
            "\u001b[0;31mKeyError\u001b[0m                                  Traceback (most recent call last)",
            "\u001b[0;32m<ipython-input-56-f725ea6a98e8>\u001b[0m in \u001b[0;36m<cell line: 0>\u001b[0;34m()\u001b[0m\n\u001b[1;32m      1\u001b[0m \u001b[0;31m# trading signals using baseline trading strategy\u001b[0m\u001b[0;34m\u001b[0m\u001b[0;34m\u001b[0m\u001b[0m\n\u001b[0;32m----> 2\u001b[0;31m \u001b[0mdata\u001b[0m\u001b[0;34m[\u001b[0m\u001b[0;34m'Signals'\u001b[0m\u001b[0;34m]\u001b[0m \u001b[0;34m=\u001b[0m \u001b[0mbaseline_trading_strategy\u001b[0m\u001b[0;34m(\u001b[0m\u001b[0mdata\u001b[0m\u001b[0;34m,\u001b[0m \u001b[0mdata\u001b[0m\u001b[0;34m[\u001b[0m\u001b[0;34m'SMA_60'\u001b[0m\u001b[0;34m]\u001b[0m\u001b[0;34m,\u001b[0m \u001b[0mdata\u001b[0m\u001b[0;34m[\u001b[0m\u001b[0;34m'Hurst'\u001b[0m\u001b[0;34m]\u001b[0m\u001b[0;34m)\u001b[0m\u001b[0;34m\u001b[0m\u001b[0;34m\u001b[0m\u001b[0m\n\u001b[0m",
            "\u001b[0;32m/usr/local/lib/python3.11/dist-packages/pandas/core/frame.py\u001b[0m in \u001b[0;36m__getitem__\u001b[0;34m(self, key)\u001b[0m\n\u001b[1;32m   4099\u001b[0m         \u001b[0;32mif\u001b[0m \u001b[0mis_single_key\u001b[0m\u001b[0;34m:\u001b[0m\u001b[0;34m\u001b[0m\u001b[0;34m\u001b[0m\u001b[0m\n\u001b[1;32m   4100\u001b[0m             \u001b[0;32mif\u001b[0m \u001b[0mself\u001b[0m\u001b[0;34m.\u001b[0m\u001b[0mcolumns\u001b[0m\u001b[0;34m.\u001b[0m\u001b[0mnlevels\u001b[0m \u001b[0;34m>\u001b[0m \u001b[0;36m1\u001b[0m\u001b[0;34m:\u001b[0m\u001b[0;34m\u001b[0m\u001b[0;34m\u001b[0m\u001b[0m\n\u001b[0;32m-> 4101\u001b[0;31m                 \u001b[0;32mreturn\u001b[0m \u001b[0mself\u001b[0m\u001b[0;34m.\u001b[0m\u001b[0m_getitem_multilevel\u001b[0m\u001b[0;34m(\u001b[0m\u001b[0mkey\u001b[0m\u001b[0;34m)\u001b[0m\u001b[0;34m\u001b[0m\u001b[0;34m\u001b[0m\u001b[0m\n\u001b[0m\u001b[1;32m   4102\u001b[0m             \u001b[0mindexer\u001b[0m \u001b[0;34m=\u001b[0m \u001b[0mself\u001b[0m\u001b[0;34m.\u001b[0m\u001b[0mcolumns\u001b[0m\u001b[0;34m.\u001b[0m\u001b[0mget_loc\u001b[0m\u001b[0;34m(\u001b[0m\u001b[0mkey\u001b[0m\u001b[0;34m)\u001b[0m\u001b[0;34m\u001b[0m\u001b[0;34m\u001b[0m\u001b[0m\n\u001b[1;32m   4103\u001b[0m             \u001b[0;32mif\u001b[0m \u001b[0mis_integer\u001b[0m\u001b[0;34m(\u001b[0m\u001b[0mindexer\u001b[0m\u001b[0;34m)\u001b[0m\u001b[0;34m:\u001b[0m\u001b[0;34m\u001b[0m\u001b[0;34m\u001b[0m\u001b[0m\n",
            "\u001b[0;32m/usr/local/lib/python3.11/dist-packages/pandas/core/frame.py\u001b[0m in \u001b[0;36m_getitem_multilevel\u001b[0;34m(self, key)\u001b[0m\n\u001b[1;32m   4157\u001b[0m     \u001b[0;32mdef\u001b[0m \u001b[0m_getitem_multilevel\u001b[0m\u001b[0;34m(\u001b[0m\u001b[0mself\u001b[0m\u001b[0;34m,\u001b[0m \u001b[0mkey\u001b[0m\u001b[0;34m)\u001b[0m\u001b[0;34m:\u001b[0m\u001b[0;34m\u001b[0m\u001b[0;34m\u001b[0m\u001b[0m\n\u001b[1;32m   4158\u001b[0m         \u001b[0;31m# self.columns is a MultiIndex\u001b[0m\u001b[0;34m\u001b[0m\u001b[0;34m\u001b[0m\u001b[0m\n\u001b[0;32m-> 4159\u001b[0;31m         \u001b[0mloc\u001b[0m \u001b[0;34m=\u001b[0m \u001b[0mself\u001b[0m\u001b[0;34m.\u001b[0m\u001b[0mcolumns\u001b[0m\u001b[0;34m.\u001b[0m\u001b[0mget_loc\u001b[0m\u001b[0;34m(\u001b[0m\u001b[0mkey\u001b[0m\u001b[0;34m)\u001b[0m\u001b[0;34m\u001b[0m\u001b[0;34m\u001b[0m\u001b[0m\n\u001b[0m\u001b[1;32m   4160\u001b[0m         \u001b[0;32mif\u001b[0m \u001b[0misinstance\u001b[0m\u001b[0;34m(\u001b[0m\u001b[0mloc\u001b[0m\u001b[0;34m,\u001b[0m \u001b[0;34m(\u001b[0m\u001b[0mslice\u001b[0m\u001b[0;34m,\u001b[0m \u001b[0mnp\u001b[0m\u001b[0;34m.\u001b[0m\u001b[0mndarray\u001b[0m\u001b[0;34m)\u001b[0m\u001b[0;34m)\u001b[0m\u001b[0;34m:\u001b[0m\u001b[0;34m\u001b[0m\u001b[0;34m\u001b[0m\u001b[0m\n\u001b[1;32m   4161\u001b[0m             \u001b[0mnew_columns\u001b[0m \u001b[0;34m=\u001b[0m \u001b[0mself\u001b[0m\u001b[0;34m.\u001b[0m\u001b[0mcolumns\u001b[0m\u001b[0;34m[\u001b[0m\u001b[0mloc\u001b[0m\u001b[0;34m]\u001b[0m\u001b[0;34m\u001b[0m\u001b[0;34m\u001b[0m\u001b[0m\n",
            "\u001b[0;32m/usr/local/lib/python3.11/dist-packages/pandas/core/indexes/multi.py\u001b[0m in \u001b[0;36mget_loc\u001b[0;34m(self, key)\u001b[0m\n\u001b[1;32m   3038\u001b[0m \u001b[0;34m\u001b[0m\u001b[0m\n\u001b[1;32m   3039\u001b[0m         \u001b[0;32mif\u001b[0m \u001b[0;32mnot\u001b[0m \u001b[0misinstance\u001b[0m\u001b[0;34m(\u001b[0m\u001b[0mkey\u001b[0m\u001b[0;34m,\u001b[0m \u001b[0mtuple\u001b[0m\u001b[0;34m)\u001b[0m\u001b[0;34m:\u001b[0m\u001b[0;34m\u001b[0m\u001b[0;34m\u001b[0m\u001b[0m\n\u001b[0;32m-> 3040\u001b[0;31m             \u001b[0mloc\u001b[0m \u001b[0;34m=\u001b[0m \u001b[0mself\u001b[0m\u001b[0;34m.\u001b[0m\u001b[0m_get_level_indexer\u001b[0m\u001b[0;34m(\u001b[0m\u001b[0mkey\u001b[0m\u001b[0;34m,\u001b[0m \u001b[0mlevel\u001b[0m\u001b[0;34m=\u001b[0m\u001b[0;36m0\u001b[0m\u001b[0;34m)\u001b[0m\u001b[0;34m\u001b[0m\u001b[0;34m\u001b[0m\u001b[0m\n\u001b[0m\u001b[1;32m   3041\u001b[0m             \u001b[0;32mreturn\u001b[0m \u001b[0m_maybe_to_slice\u001b[0m\u001b[0;34m(\u001b[0m\u001b[0mloc\u001b[0m\u001b[0;34m)\u001b[0m\u001b[0;34m\u001b[0m\u001b[0;34m\u001b[0m\u001b[0m\n\u001b[1;32m   3042\u001b[0m \u001b[0;34m\u001b[0m\u001b[0m\n",
            "\u001b[0;32m/usr/local/lib/python3.11/dist-packages/pandas/core/indexes/multi.py\u001b[0m in \u001b[0;36m_get_level_indexer\u001b[0;34m(self, key, level, indexer)\u001b[0m\n\u001b[1;32m   3389\u001b[0m \u001b[0;34m\u001b[0m\u001b[0m\n\u001b[1;32m   3390\u001b[0m         \u001b[0;32melse\u001b[0m\u001b[0;34m:\u001b[0m\u001b[0;34m\u001b[0m\u001b[0;34m\u001b[0m\u001b[0m\n\u001b[0;32m-> 3391\u001b[0;31m             \u001b[0midx\u001b[0m \u001b[0;34m=\u001b[0m \u001b[0mself\u001b[0m\u001b[0;34m.\u001b[0m\u001b[0m_get_loc_single_level_index\u001b[0m\u001b[0;34m(\u001b[0m\u001b[0mlevel_index\u001b[0m\u001b[0;34m,\u001b[0m \u001b[0mkey\u001b[0m\u001b[0;34m)\u001b[0m\u001b[0;34m\u001b[0m\u001b[0;34m\u001b[0m\u001b[0m\n\u001b[0m\u001b[1;32m   3392\u001b[0m \u001b[0;34m\u001b[0m\u001b[0m\n\u001b[1;32m   3393\u001b[0m             \u001b[0;32mif\u001b[0m \u001b[0mlevel\u001b[0m \u001b[0;34m>\u001b[0m \u001b[0;36m0\u001b[0m \u001b[0;32mor\u001b[0m \u001b[0mself\u001b[0m\u001b[0;34m.\u001b[0m\u001b[0m_lexsort_depth\u001b[0m \u001b[0;34m==\u001b[0m \u001b[0;36m0\u001b[0m\u001b[0;34m:\u001b[0m\u001b[0;34m\u001b[0m\u001b[0;34m\u001b[0m\u001b[0m\n",
            "\u001b[0;32m/usr/local/lib/python3.11/dist-packages/pandas/core/indexes/multi.py\u001b[0m in \u001b[0;36m_get_loc_single_level_index\u001b[0;34m(self, level_index, key)\u001b[0m\n\u001b[1;32m   2978\u001b[0m             \u001b[0;32mreturn\u001b[0m \u001b[0;34m-\u001b[0m\u001b[0;36m1\u001b[0m\u001b[0;34m\u001b[0m\u001b[0;34m\u001b[0m\u001b[0m\n\u001b[1;32m   2979\u001b[0m         \u001b[0;32melse\u001b[0m\u001b[0;34m:\u001b[0m\u001b[0;34m\u001b[0m\u001b[0;34m\u001b[0m\u001b[0m\n\u001b[0;32m-> 2980\u001b[0;31m             \u001b[0;32mreturn\u001b[0m \u001b[0mlevel_index\u001b[0m\u001b[0;34m.\u001b[0m\u001b[0mget_loc\u001b[0m\u001b[0;34m(\u001b[0m\u001b[0mkey\u001b[0m\u001b[0;34m)\u001b[0m\u001b[0;34m\u001b[0m\u001b[0;34m\u001b[0m\u001b[0m\n\u001b[0m\u001b[1;32m   2981\u001b[0m \u001b[0;34m\u001b[0m\u001b[0m\n\u001b[1;32m   2982\u001b[0m     \u001b[0;32mdef\u001b[0m \u001b[0mget_loc\u001b[0m\u001b[0;34m(\u001b[0m\u001b[0mself\u001b[0m\u001b[0;34m,\u001b[0m \u001b[0mkey\u001b[0m\u001b[0;34m)\u001b[0m\u001b[0;34m:\u001b[0m\u001b[0;34m\u001b[0m\u001b[0;34m\u001b[0m\u001b[0m\n",
            "\u001b[0;32m/usr/local/lib/python3.11/dist-packages/pandas/core/indexes/base.py\u001b[0m in \u001b[0;36mget_loc\u001b[0;34m(self, key)\u001b[0m\n\u001b[1;32m   3810\u001b[0m             ):\n\u001b[1;32m   3811\u001b[0m                 \u001b[0;32mraise\u001b[0m \u001b[0mInvalidIndexError\u001b[0m\u001b[0;34m(\u001b[0m\u001b[0mkey\u001b[0m\u001b[0;34m)\u001b[0m\u001b[0;34m\u001b[0m\u001b[0;34m\u001b[0m\u001b[0m\n\u001b[0;32m-> 3812\u001b[0;31m             \u001b[0;32mraise\u001b[0m \u001b[0mKeyError\u001b[0m\u001b[0;34m(\u001b[0m\u001b[0mkey\u001b[0m\u001b[0;34m)\u001b[0m \u001b[0;32mfrom\u001b[0m \u001b[0merr\u001b[0m\u001b[0;34m\u001b[0m\u001b[0;34m\u001b[0m\u001b[0m\n\u001b[0m\u001b[1;32m   3813\u001b[0m         \u001b[0;32mexcept\u001b[0m \u001b[0mTypeError\u001b[0m\u001b[0;34m:\u001b[0m\u001b[0;34m\u001b[0m\u001b[0;34m\u001b[0m\u001b[0m\n\u001b[1;32m   3814\u001b[0m             \u001b[0;31m# If we have a listlike key, _check_indexing_error will raise\u001b[0m\u001b[0;34m\u001b[0m\u001b[0;34m\u001b[0m\u001b[0m\n",
            "\u001b[0;31mKeyError\u001b[0m: 'SMA_60'"
          ]
        }
      ]
    },
    {
      "cell_type": "code",
      "source": [
        "# Execute backtest\n",
        "expected_return, sharpe_ratio = backtest_strategy(data, data['Signals'])\n",
        "print(f'Expected Return: {expected_return:.2%}, Sharpe Ratio: {sharpe_ratio:.2f}')"
      ],
      "metadata": {
        "id": "-bi1y1rM8po2"
      },
      "execution_count": null,
      "outputs": []
    },
    {
      "cell_type": "code",
      "source": [],
      "metadata": {
        "id": "29L_3khO8qE7"
      },
      "execution_count": null,
      "outputs": []
    }
  ]
}